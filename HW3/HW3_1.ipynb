{
  "nbformat": 4,
  "nbformat_minor": 0,
  "metadata": {
    "colab": {
      "provenance": [],
      "gpuType": "T4",
      "authorship_tag": "ABX9TyNZFMCfFZdRxez/Nh9KzwT4",
      "include_colab_link": true
    },
    "kernelspec": {
      "name": "python3",
      "display_name": "Python 3"
    },
    "language_info": {
      "name": "python"
    },
    "accelerator": "GPU"
  },
  "cells": [
    {
      "cell_type": "markdown",
      "metadata": {
        "id": "view-in-github",
        "colab_type": "text"
      },
      "source": [
        "<a href=\"https://colab.research.google.com/github/YousefAbua/Intro-To-DL/blob/main/HW3/HW3_1.ipynb\" target=\"_parent\"><img src=\"https://colab.research.google.com/assets/colab-badge.svg\" alt=\"Open In Colab\"/></a>"
      ]
    },
    {
      "cell_type": "code",
      "execution_count": 12,
      "metadata": {
        "id": "YKRAIH_Uvhn2"
      },
      "outputs": [],
      "source": [
        "import torch\n",
        "import torch.nn as nn\n",
        "import torch.optim as optim\n",
        "import numpy as np\n",
        "from sklearn.model_selection import train_test_split"
      ]
    },
    {
      "cell_type": "code",
      "source": [
        "#Sample Text\n",
        "text = \"\"\"Next character prediction is a fundamental task in the field of natural language processing (NLP) that involves predicting the next character in a sequence of text based on the characters\n",
        "that precede it. This task is essential for various applications, including text auto-completion, spell checking, and even in the development of sophisticated AI models capable of generating human-like\n",
        "text. At its core, next character prediction relies on statistical models or deep learning algorithms to analyze a given sequence of text and predict which character is most likely to follow. These\n",
        "predictions are based on patterns and relationships learned from large datasets of text during the training phase of the model. One of the most popular approaches to next character prediction involves\n",
        "the use of Recurrent Neural Networks (RNNs), and more specifically, a variant called Long Short-Term Memory (LSTM) networks. RNNs are particularly well-suited for sequential data like text, as they\n",
        "can maintain information in 'memory' about previous characters to inform the prediction of the next character. LSTM networks enhance this capability by being able to remember long-term dependencies,\n",
        "making them even more effective for next character prediction tasks. Training a model for next character prediction involves feeding it large amounts of text data, allowing it to learn the probability\n",
        "of each character's appearance following a sequence of characters. During this training process, the model adjusts its parameters to minimize the difference between its predictions and the actual outcomes,\n",
        "thus improving its predictive accuracy over time. Once trained, the model can be used to predict the next character in a given piece of text by considering the sequence of characters that precede it.\n",
        "This can enhance user experience in text editing software, improve efficiency in coding environments with auto-completion features, and enable more natural interactions with AI-based chatbots and\n",
        "virtual assistants. In summary, next character prediction plays a crucial role in enhancing the capabilities of various NLP applications, making text-based interactions more efficient, accurate, and\n",
        "human-like. Through the use of advanced machine learning models like RNNs and LSTMs, next character prediction continues to evolve, opening new possibilities for the future of text-based technology.\"\"\""
      ],
      "metadata": {
        "id": "zmp7xNI2y2zA"
      },
      "execution_count": 13,
      "outputs": []
    },
    {
      "cell_type": "code",
      "source": [
        "# Sorts chars and removes duplicates\n",
        "chars = sorted(list(set(text)))\n",
        "# Creates a dictionary that maps each char to unique index\n",
        "ix_to_char = {i: ch for i, ch in enumerate(chars)}\n",
        "# Creates a dictionary that maps each unique index back to its char\n",
        "char_to_ix = {ch: i for i, ch in enumerate(chars)}"
      ],
      "metadata": {
        "id": "qu7P3md4zH1I"
      },
      "execution_count": 14,
      "outputs": []
    },
    {
      "cell_type": "code",
      "source": [
        "# Prepare dataset\n",
        "def Define_Dataset(max_length):\n",
        "  x = []\n",
        "  y = []\n",
        "  for i in range(len(text) - max_length):\n",
        "    sequence = text[i:i + max_length]\n",
        "    label = text[i + max_length]\n",
        "    x.append([char_to_ix[char] for char in sequence])\n",
        "    y.append(char_to_ix[label])\n",
        "\n",
        "  x = np.array(x)\n",
        "  y = np.array(y)\n",
        "  return x, y\n",
        "\n",
        "x10, y10 = Define_Dataset(10) # Max Length = 10\n",
        "x20, y20 = Define_Dataset(20) # Max Length = 20\n",
        "x30, y30 = Define_Dataset(30) # Max Length = 30\n",
        "\n",
        "# Split dataset into train/validation sets\n",
        "x10_train, x10_val, y10_train, y10_val = train_test_split(x10, y10, train_size=0.2, random_state=42)\n",
        "x20_train, x20_val, y20_train, y20_val = train_test_split(x20, y20, train_size=0.2, random_state=42)\n",
        "x30_train, x30_val, y30_train, y30_val = train_test_split(x30, y30, train_size=0.2, random_state=42)\n",
        "\n",
        "# Convert to pytorch tensor\n",
        "x10_train = torch.tensor(x10_train, dtype=torch.long)\n",
        "y10_train = torch.tensor(y10_train, dtype=torch.long)\n",
        "x10_val = torch.tensor(x10_val, dtype=torch.long)\n",
        "y10_val = torch.tensor(y10_val, dtype=torch.long)\n",
        "\n",
        "x20_train = torch.tensor(x20_train, dtype=torch.long)\n",
        "y20_train = torch.tensor(y20_train, dtype=torch.long)\n",
        "x20_val = torch.tensor(x20_val, dtype=torch.long)\n",
        "y20_val = torch.tensor(y20_val, dtype=torch.long)\n",
        "\n",
        "x30_train = torch.tensor(x30_train, dtype=torch.long)\n",
        "y30_train = torch.tensor(y30_train, dtype=torch.long)\n",
        "x30_val = torch.tensor(x30_val, dtype=torch.long)\n",
        "y30_val = torch.tensor(y30_val, dtype=torch.long)"
      ],
      "metadata": {
        "id": "YYRZ170L22ym"
      },
      "execution_count": 15,
      "outputs": []
    },
    {
      "cell_type": "code",
      "source": [
        "def training_loop(x_train, y_train, x_val, y_val, model, criterion, optimizer, epochs):\n",
        "  for epoch in range(epochs):\n",
        "    model.train()\n",
        "    optimizer.zero_grad()\n",
        "    output = model(x_train)\n",
        "    train_loss = criterion(output, y_train)\n",
        "    train_loss.backward()\n",
        "    optimizer.step()\n",
        "\n",
        "    # Validation\n",
        "    model.eval()\n",
        "    with torch.no_grad():\n",
        "        val_output = model(x_val)\n",
        "        val_loss = criterion(val_output, y_val)\n",
        "        _, predicted = torch.max(val_output, 1)\n",
        "        val_accuracy = (predicted == y_val).float().mean()\n",
        "\n",
        "    if (epoch+1) % 10 == 0:\n",
        "        print(f'Epoch {epoch+1}, Loss: {train_loss.item()}, Validation Loss: {val_loss.item()}, Validation Accuracy: {val_accuracy.item()}')\n",
        "\n",
        "# Prediction function\n",
        "def predict_next_char(model, max_length, char_to_ix, ix_to_char, initial_str):\n",
        "    model.eval()\n",
        "    with torch.no_grad():\n",
        "        initial_input = torch.tensor([char_to_ix[c] for c in initial_str[-max_length:]], dtype=torch.long).unsqueeze(0)\n",
        "        prediction = model(initial_input)\n",
        "        predicted_index = torch.argmax(prediction, dim=1).item()\n",
        "        return ix_to_char[predicted_index]"
      ],
      "metadata": {
        "id": "zpyCylFOAIvL"
      },
      "execution_count": 16,
      "outputs": []
    },
    {
      "cell_type": "code",
      "source": [
        "# Define RNN model\n",
        "class RNNModel(nn.Module):\n",
        "    def __init__(self, input_size, hidden_size, output_size):\n",
        "        super(RNNModel, self).__init__()\n",
        "        self.hidden_size = hidden_size\n",
        "        self.embedding = nn.Embedding(input_size, hidden_size)\n",
        "        self.rnn = nn.RNN(hidden_size, hidden_size, batch_first=True)\n",
        "        self.fc = nn.Linear(hidden_size, output_size)\n",
        "\n",
        "    def forward(self, x):\n",
        "        embedded = self.embedding(x)\n",
        "        output, _ = self.rnn(embedded)\n",
        "        output = self.fc(output[:, -1, :])  # Taking the last time step output\n",
        "        return output\n",
        "\n",
        "# Define LSTM model\n",
        "class LSTMModel(nn.Module):\n",
        "    def __init__(self, input_size, hidden_size, output_size):\n",
        "        super(LSTMModel, self).__init__()\n",
        "        self.hidden_size = hidden_size\n",
        "        self.embedding = nn.Embedding(input_size, hidden_size)\n",
        "        self.lstm = nn.LSTM(hidden_size, hidden_size, batch_first=True)\n",
        "        self.fc = nn.Linear(hidden_size, output_size)\n",
        "\n",
        "    def forward(self, x):\n",
        "        embedded = self.embedding(x)\n",
        "        output, _ = self.lstm(embedded)\n",
        "        output = self.fc(output[:, -1, :])  # Taking the last time step output\n",
        "        return output\n",
        "\n",
        "# Define GRU model\n",
        "class GRUModel(nn.Module):\n",
        "    def __init__(self, input_size, hidden_size, output_size):\n",
        "        super(GRUModel, self).__init__()\n",
        "        self.hidden_size = hidden_size\n",
        "        self.embedding = nn.Embedding(input_size, hidden_size)\n",
        "        self.gru = nn.GRU(hidden_size, hidden_size, batch_first=True)\n",
        "        self.fc = nn.Linear(hidden_size, output_size)\n",
        "\n",
        "    def forward(self, x):\n",
        "        embedded = self.embedding(x)\n",
        "        output, _ = self.gru(embedded)\n",
        "        output = self.fc(output[:, -1, :])  # Taking the last time step output\n",
        "        return output"
      ],
      "metadata": {
        "id": "_Hq_f2GTYLLe"
      },
      "execution_count": 17,
      "outputs": []
    },
    {
      "cell_type": "code",
      "source": [
        "hidden_size = 128\n",
        "learning_rate = 0.001\n",
        "epochs = 100\n",
        "\n",
        "RNN10_Model = RNNModel(len(chars), hidden_size, len(chars))\n",
        "LSTM10_Model = LSTMModel(len(chars), hidden_size, len(chars))\n",
        "GRU10_Model = GRUModel(len(chars), hidden_size, len(chars))\n",
        "\n",
        "criterion = nn.CrossEntropyLoss()\n",
        "\n",
        "RNN10_optimizer = optim.Adam(RNN10_Model.parameters(), lr=learning_rate)\n",
        "LSTM10_optimizer = optim.Adam(LSTM10_Model.parameters(), lr=learning_rate)\n",
        "GRU10_optimizer = optim.Adam(GRU10_Model.parameters(), lr=learning_rate)\n",
        "\n",
        "print(\"Start Training for sequence size: 10....\\n\")\n",
        "print(\"RNN MODEL\")\n",
        "training_loop(\n",
        "    x_train = x10_train,\n",
        "    y_train = y10_train,\n",
        "    x_val = x10_val,\n",
        "    y_val = y10_val,\n",
        "    model = RNN10_Model,\n",
        "    criterion = criterion,\n",
        "    optimizer = RNN10_optimizer,\n",
        "    epochs = 100\n",
        ")\n",
        "print(\"\\nLSTM Model\")\n",
        "training_loop(\n",
        "    x_train = x10_train,\n",
        "    y_train = y10_train,\n",
        "    x_val = x10_val,\n",
        "    y_val = y10_val,\n",
        "    model = LSTM10_Model,\n",
        "    criterion = criterion,\n",
        "    optimizer = LSTM10_optimizer,\n",
        "    epochs = 100\n",
        ")\n",
        "print(\"\\nGRU Model\")\n",
        "training_loop(\n",
        "    x_train = x10_train,\n",
        "    y_train = y10_train,\n",
        "    x_val = x10_val,\n",
        "    y_val = y10_val,\n",
        "    model = GRU10_Model,\n",
        "    criterion = criterion,\n",
        "    optimizer = GRU10_optimizer,\n",
        "    epochs = 100\n",
        ")"
      ],
      "metadata": {
        "colab": {
          "base_uri": "https://localhost:8080/"
        },
        "id": "_R-gGLwUEemU",
        "outputId": "6bb587a4-7ae5-4a9a-ea1a-c3e7636ea404"
      },
      "execution_count": 18,
      "outputs": [
        {
          "output_type": "stream",
          "name": "stdout",
          "text": [
            "Start Training for sequence size: 10....\n",
            "\n",
            "RNN MODEL\n",
            "Epoch 10, Loss: 2.9727702140808105, Validation Loss: 3.1283562183380127, Validation Accuracy: 0.23198316991329193\n",
            "Epoch 20, Loss: 2.411003351211548, Validation Loss: 2.7808191776275635, Validation Accuracy: 0.2498684972524643\n",
            "Epoch 30, Loss: 2.103773355484009, Validation Loss: 2.6740047931671143, Validation Accuracy: 0.2698579728603363\n",
            "Epoch 40, Loss: 1.8622057437896729, Validation Loss: 2.600128412246704, Validation Accuracy: 0.3045765459537506\n",
            "Epoch 50, Loss: 1.6448084115982056, Validation Loss: 2.576533794403076, Validation Accuracy: 0.3135192096233368\n",
            "Epoch 60, Loss: 1.4354736804962158, Validation Loss: 2.5723626613616943, Validation Accuracy: 0.3435034155845642\n",
            "Epoch 70, Loss: 1.2305023670196533, Validation Loss: 2.581721305847168, Validation Accuracy: 0.34981587529182434\n",
            "Epoch 80, Loss: 1.02951979637146, Validation Loss: 2.60629940032959, Validation Accuracy: 0.34560757875442505\n",
            "Epoch 90, Loss: 0.8377300500869751, Validation Loss: 2.6479098796844482, Validation Accuracy: 0.3519200384616852\n",
            "Epoch 100, Loss: 0.662095844745636, Validation Loss: 2.7116734981536865, Validation Accuracy: 0.3519200384616852\n",
            "\n",
            "LSTM Model\n",
            "Epoch 10, Loss: 3.335012197494507, Validation Loss: 3.3586931228637695, Validation Accuracy: 0.22882694005966187\n",
            "Epoch 20, Loss: 2.78756046295166, Validation Loss: 2.9726722240448, Validation Accuracy: 0.19305628538131714\n",
            "Epoch 30, Loss: 2.481778860092163, Validation Loss: 2.81657338142395, Validation Accuracy: 0.24250394105911255\n",
            "Epoch 40, Loss: 2.2246615886688232, Validation Loss: 2.713484287261963, Validation Accuracy: 0.2503945231437683\n",
            "Epoch 50, Loss: 1.9743859767913818, Validation Loss: 2.6526196002960205, Validation Accuracy: 0.2798527181148529\n",
            "Epoch 60, Loss: 1.7231019735336304, Validation Loss: 2.6214828491210938, Validation Accuracy: 0.2882693409919739\n",
            "Epoch 70, Loss: 1.4667233228683472, Validation Loss: 2.610942840576172, Validation Accuracy: 0.302998423576355\n",
            "Epoch 80, Loss: 1.2066751718521118, Validation Loss: 2.626950740814209, Validation Accuracy: 0.3135192096233368\n",
            "Epoch 90, Loss: 0.9525377750396729, Validation Loss: 2.6669464111328125, Validation Accuracy: 0.31246712803840637\n",
            "Epoch 100, Loss: 0.7234668135643005, Validation Loss: 2.727735757827759, Validation Accuracy: 0.31667542457580566\n",
            "\n",
            "GRU Model\n",
            "Epoch 10, Loss: 3.1179890632629395, Validation Loss: 3.190263032913208, Validation Accuracy: 0.18937401473522186\n",
            "Epoch 20, Loss: 2.629592180252075, Validation Loss: 2.888091802597046, Validation Accuracy: 0.20988953113555908\n",
            "Epoch 30, Loss: 2.3320655822753906, Validation Loss: 2.7768867015838623, Validation Accuracy: 0.2451341450214386\n",
            "Epoch 40, Loss: 2.0860555171966553, Validation Loss: 2.6813158988952637, Validation Accuracy: 0.2682798504829407\n",
            "Epoch 50, Loss: 1.853117823600769, Validation Loss: 2.6025495529174805, Validation Accuracy: 0.29721200466156006\n",
            "Epoch 60, Loss: 1.626306176185608, Validation Loss: 2.565382719039917, Validation Accuracy: 0.3040505051612854\n",
            "Epoch 70, Loss: 1.3996561765670776, Validation Loss: 2.548875570297241, Validation Accuracy: 0.3177275061607361\n",
            "Epoch 80, Loss: 1.1753623485565186, Validation Loss: 2.545004367828369, Validation Accuracy: 0.3440294563770294\n",
            "Epoch 90, Loss: 0.9589502811431885, Validation Loss: 2.5641942024230957, Validation Accuracy: 0.3529721200466156\n",
            "Epoch 100, Loss: 0.7594945430755615, Validation Loss: 2.607142925262451, Validation Accuracy: 0.3613887429237366\n"
          ]
        }
      ]
    },
    {
      "cell_type": "code",
      "source": [
        "# Predicting the next character\n",
        "test_str = \"This is a simple example to demonstrate how to predict the next charac\"\n",
        "predicted_char = predict_next_char(RNN10_Model, 10, char_to_ix, ix_to_char, test_str)\n",
        "print(f\"RNN: Predicted next character: '{predicted_char}'\")\n",
        "\n",
        "# Predicting the next character\n",
        "test_str = \"This is a simple example to demonstrate how to predict the next charac\"\n",
        "predicted_char = predict_next_char(LSTM10_Model, 10, char_to_ix, ix_to_char, test_str)\n",
        "print(f\"LSTM: Predicted next character: '{predicted_char}'\")\n",
        "\n",
        "# Predicting the next character\n",
        "test_str = \"This is a simple example to demonstrate how to predict the next charac\"\n",
        "predicted_char = predict_next_char(GRU10_Model, 10, char_to_ix, ix_to_char, test_str)\n",
        "print(f\"GRU: Predicted next character: '{predicted_char}'\")"
      ],
      "metadata": {
        "colab": {
          "base_uri": "https://localhost:8080/"
        },
        "id": "QrzlVev7goe1",
        "outputId": "a202d472-4c72-45a0-ca84-b64a42b6f343"
      },
      "execution_count": 19,
      "outputs": [
        {
          "output_type": "stream",
          "name": "stdout",
          "text": [
            "RNN: Predicted next character: 't'\n",
            "LSTM: Predicted next character: 't'\n",
            "GRU: Predicted next character: 't'\n"
          ]
        }
      ]
    },
    {
      "cell_type": "code",
      "source": [
        "RNN20_Model = RNNModel(len(chars), hidden_size, len(chars))\n",
        "LSTM20_Model = LSTMModel(len(chars), hidden_size, len(chars))\n",
        "GRU20_Model = GRUModel(len(chars), hidden_size, len(chars))\n",
        "\n",
        "criterion = nn.CrossEntropyLoss()\n",
        "\n",
        "RNN20_optimizer = optim.Adam(RNN20_Model.parameters(), lr=learning_rate)\n",
        "LSTM20_optimizer = optim.Adam(LSTM20_Model.parameters(), lr=learning_rate)\n",
        "GRU20_optimizer = optim.Adam(GRU20_Model.parameters(), lr=learning_rate)\n",
        "\n",
        "\n",
        "print(\"Start Training for sequence size: 20....\\n\")\n",
        "print(\"RNN MODEL\")\n",
        "training_loop(\n",
        "    x_train = x20_train,\n",
        "    y_train = y20_train,\n",
        "    x_val = x20_val,\n",
        "    y_val = y20_val,\n",
        "    model = RNN20_Model,\n",
        "    criterion = criterion,\n",
        "    optimizer = RNN20_optimizer,\n",
        "    epochs = 100\n",
        ")\n",
        "print(\"\\nLSTM Model\")\n",
        "training_loop(\n",
        "    x_train = x20_train,\n",
        "    y_train = y20_train,\n",
        "    x_val = x20_val,\n",
        "    y_val = y20_val,\n",
        "    model = LSTM20_Model,\n",
        "    criterion = criterion,\n",
        "    optimizer = LSTM20_optimizer,\n",
        "    epochs = 100\n",
        ")\n",
        "print(\"\\nGRU Model\")\n",
        "training_loop(\n",
        "    x_train = x20_train,\n",
        "    y_train = y20_train,\n",
        "    x_val = x20_val,\n",
        "    y_val = y20_val,\n",
        "    model = GRU20_Model,\n",
        "    criterion = criterion,\n",
        "    optimizer = GRU20_optimizer,\n",
        "    epochs = 100\n",
        ")"
      ],
      "metadata": {
        "colab": {
          "base_uri": "https://localhost:8080/"
        },
        "id": "sipiWxAVeRWK",
        "outputId": "1ef9ff9c-1497-485b-ce96-d8b666885eb7"
      },
      "execution_count": 20,
      "outputs": [
        {
          "output_type": "stream",
          "name": "stdout",
          "text": [
            "Start Training for sequence size: 20....\n",
            "\n",
            "RNN MODEL\n",
            "Epoch 10, Loss: 2.9883623123168945, Validation Loss: 3.108588218688965, Validation Accuracy: 0.2303222417831421\n",
            "Epoch 20, Loss: 2.4274632930755615, Validation Loss: 2.722944736480713, Validation Accuracy: 0.2826201915740967\n",
            "Epoch 30, Loss: 2.0999159812927246, Validation Loss: 2.5920767784118652, Validation Accuracy: 0.3264659345149994\n",
            "Epoch 40, Loss: 1.833342432975769, Validation Loss: 2.5061838626861572, Validation Accuracy: 0.3412572741508484\n",
            "Epoch 50, Loss: 1.589306354522705, Validation Loss: 2.457423210144043, Validation Accuracy: 0.35868990421295166\n",
            "Epoch 60, Loss: 1.3569259643554688, Validation Loss: 2.4377002716064453, Validation Accuracy: 0.3724247217178345\n",
            "Epoch 70, Loss: 1.1317120790481567, Validation Loss: 2.4476470947265625, Validation Accuracy: 0.3761225640773773\n",
            "Epoch 80, Loss: 0.9209274053573608, Validation Loss: 2.48279070854187, Validation Accuracy: 0.3777073323726654\n",
            "Epoch 90, Loss: 0.7303172945976257, Validation Loss: 2.5400705337524414, Validation Accuracy: 0.3840464949607849\n",
            "Epoch 100, Loss: 0.5647451281547546, Validation Loss: 2.6130292415618896, Validation Accuracy: 0.3835182189941406\n",
            "\n",
            "LSTM Model\n",
            "Epoch 10, Loss: 3.385349750518799, Validation Loss: 3.384192943572998, Validation Accuracy: 0.1991547793149948\n",
            "Epoch 20, Loss: 2.8258283138275146, Validation Loss: 2.929861307144165, Validation Accuracy: 0.21288959681987762\n",
            "Epoch 30, Loss: 2.5425055027008057, Validation Loss: 2.7680656909942627, Validation Accuracy: 0.2646592855453491\n",
            "Epoch 40, Loss: 2.2888004779815674, Validation Loss: 2.6530275344848633, Validation Accuracy: 0.28631800413131714\n",
            "Epoch 50, Loss: 2.0363030433654785, Validation Loss: 2.580359697341919, Validation Accuracy: 0.3201267719268799\n",
            "Epoch 60, Loss: 1.776322364807129, Validation Loss: 2.5353424549102783, Validation Accuracy: 0.3402007520198822\n",
            "Epoch 70, Loss: 1.5124599933624268, Validation Loss: 2.5113131999969482, Validation Accuracy: 0.3428420424461365\n",
            "Epoch 80, Loss: 1.2510838508605957, Validation Loss: 2.51101016998291, Validation Accuracy: 0.3481246829032898\n",
            "Epoch 90, Loss: 0.9987271428108215, Validation Loss: 2.532914400100708, Validation Accuracy: 0.3544638156890869\n",
            "Epoch 100, Loss: 0.7646379470825195, Validation Loss: 2.567798137664795, Validation Accuracy: 0.35129424929618835\n",
            "\n",
            "GRU Model\n",
            "Epoch 10, Loss: 3.124330520629883, Validation Loss: 3.1444501876831055, Validation Accuracy: 0.19545695185661316\n",
            "Epoch 20, Loss: 2.6994125843048096, Validation Loss: 2.883575677871704, Validation Accuracy: 0.24088747799396515\n",
            "Epoch 30, Loss: 2.408111572265625, Validation Loss: 2.731931686401367, Validation Accuracy: 0.25620707869529724\n",
            "Epoch 40, Loss: 2.141789674758911, Validation Loss: 2.616717576980591, Validation Accuracy: 0.29318541288375854\n",
            "Epoch 50, Loss: 1.8816733360290527, Validation Loss: 2.5403428077697754, Validation Accuracy: 0.33808767795562744\n",
            "Epoch 60, Loss: 1.627144694328308, Validation Loss: 2.4960153102874756, Validation Accuracy: 0.3497094511985779\n",
            "Epoch 70, Loss: 1.3802708387374878, Validation Loss: 2.476581335067749, Validation Accuracy: 0.36767035722732544\n",
            "Epoch 80, Loss: 1.1464391946792603, Validation Loss: 2.478081703186035, Validation Accuracy: 0.37453776597976685\n",
            "Epoch 90, Loss: 0.9308330416679382, Validation Loss: 2.5019962787628174, Validation Accuracy: 0.3771790862083435\n",
            "Epoch 100, Loss: 0.7382740378379822, Validation Loss: 2.5434505939483643, Validation Accuracy: 0.3851030170917511\n"
          ]
        }
      ]
    },
    {
      "cell_type": "code",
      "source": [
        "# Predicting the next character\n",
        "test_str = \"This is a simple example to demonstrate how to predict the next charac\"\n",
        "predicted_char = predict_next_char(RNN20_Model, 20, char_to_ix, ix_to_char, test_str)\n",
        "print(f\"RNN: Predicted next character: '{predicted_char}'\")\n",
        "\n",
        "# Predicting the next character\n",
        "test_str = \"This is a simple example to demonstrate how to predict the next charac\"\n",
        "predicted_char = predict_next_char(LSTM20_Model, 20, char_to_ix, ix_to_char, test_str)\n",
        "print(f\"LSTM: Predicted next character: '{predicted_char}'\")\n",
        "\n",
        "# Predicting the next character\n",
        "test_str = \"This is a simple example to demonstrate how to predict the next charac\"\n",
        "predicted_char = predict_next_char(GRU20_Model, 20, char_to_ix, ix_to_char, test_str)\n",
        "print(f\"GRU: Predicted next character: '{predicted_char}'\")"
      ],
      "metadata": {
        "colab": {
          "base_uri": "https://localhost:8080/"
        },
        "id": "xHDQz8slg14p",
        "outputId": "2591b191-0fad-458f-e2bc-0f6c19a767a2"
      },
      "execution_count": 21,
      "outputs": [
        {
          "output_type": "stream",
          "name": "stdout",
          "text": [
            "RNN: Predicted next character: 't'\n",
            "LSTM: Predicted next character: 't'\n",
            "GRU: Predicted next character: 't'\n"
          ]
        }
      ]
    },
    {
      "cell_type": "code",
      "source": [
        "RNN30_Model = RNNModel(len(chars), hidden_size, len(chars))\n",
        "LSTM30_Model = LSTMModel(len(chars), hidden_size, len(chars))\n",
        "GRU30_Model = GRUModel(len(chars), hidden_size, len(chars))\n",
        "\n",
        "criterion = nn.CrossEntropyLoss()\n",
        "\n",
        "RNN30_optimizer = optim.Adam(RNN30_Model.parameters(), lr=learning_rate)\n",
        "LSTM30_optimizer = optim.Adam(LSTM30_Model.parameters(), lr=learning_rate)\n",
        "GRU30_optimizer = optim.Adam(GRU30_Model.parameters(), lr=learning_rate)\n",
        "\n",
        "\n",
        "print(\"Start Training for sequence size: 30....\\n\")\n",
        "print(\"RNN MODEL\")\n",
        "training_loop(\n",
        "    x_train = x30_train,\n",
        "    y_train = y30_train,\n",
        "    x_val = x30_val,\n",
        "    y_val = y30_val,\n",
        "    model = RNN30_Model,\n",
        "    criterion = criterion,\n",
        "    optimizer = RNN30_optimizer,\n",
        "    epochs = 100\n",
        ")\n",
        "print(\"\\nLSTM Model\")\n",
        "training_loop(\n",
        "    x_train = x30_train,\n",
        "    y_train = y30_train,\n",
        "    x_val = x30_val,\n",
        "    y_val = y30_val,\n",
        "    model = LSTM30_Model,\n",
        "    criterion = criterion,\n",
        "    optimizer = LSTM30_optimizer,\n",
        "    epochs = 100\n",
        ")\n",
        "print(\"\\nGRU Model\")\n",
        "training_loop(\n",
        "    x_train = x30_train,\n",
        "    y_train = y30_train,\n",
        "    x_val = x30_val,\n",
        "    y_val = y30_val,\n",
        "    model = GRU30_Model,\n",
        "    criterion = criterion,\n",
        "    optimizer = GRU30_optimizer,\n",
        "    epochs = 100\n",
        ")"
      ],
      "metadata": {
        "colab": {
          "base_uri": "https://localhost:8080/"
        },
        "id": "Aalf5dQnenpq",
        "outputId": "39363c0d-db25-4bee-a9ad-2dca76740552"
      },
      "execution_count": 22,
      "outputs": [
        {
          "output_type": "stream",
          "name": "stdout",
          "text": [
            "Start Training for sequence size: 30....\n",
            "\n",
            "RNN MODEL\n",
            "Epoch 10, Loss: 3.0213866233825684, Validation Loss: 3.1182940006256104, Validation Accuracy: 0.25517240166664124\n",
            "Epoch 20, Loss: 2.5059235095977783, Validation Loss: 2.7260475158691406, Validation Accuracy: 0.2636604905128479\n",
            "Epoch 30, Loss: 2.2047336101531982, Validation Loss: 2.6309821605682373, Validation Accuracy: 0.3103448152542114\n",
            "Epoch 40, Loss: 1.9520454406738281, Validation Loss: 2.553439140319824, Validation Accuracy: 0.3416445553302765\n",
            "Epoch 50, Loss: 1.720510721206665, Validation Loss: 2.5199694633483887, Validation Accuracy: 0.34588858485221863\n",
            "Epoch 60, Loss: 1.4962245225906372, Validation Loss: 2.501267671585083, Validation Accuracy: 0.3575596809387207\n",
            "Epoch 70, Loss: 1.2748626470565796, Validation Loss: 2.5007545948028564, Validation Accuracy: 0.36180371046066284\n",
            "Epoch 80, Loss: 1.0594645738601685, Validation Loss: 2.5166873931884766, Validation Accuracy: 0.37771883606910706\n",
            "Epoch 90, Loss: 0.8562628626823425, Validation Loss: 2.548983335494995, Validation Accuracy: 0.38249337673187256\n",
            "Epoch 100, Loss: 0.6726325750350952, Validation Loss: 2.6003785133361816, Validation Accuracy: 0.3766578137874603\n",
            "\n",
            "LSTM Model\n",
            "Epoch 10, Loss: 3.41205096244812, Validation Loss: 3.401360511779785, Validation Accuracy: 0.21909813582897186\n",
            "Epoch 20, Loss: 2.8683388233184814, Validation Loss: 2.9301135540008545, Validation Accuracy: 0.21909813582897186\n",
            "Epoch 30, Loss: 2.56728196144104, Validation Loss: 2.770357608795166, Validation Accuracy: 0.2525199055671692\n",
            "Epoch 40, Loss: 2.3057141304016113, Validation Loss: 2.6666994094848633, Validation Accuracy: 0.26153847575187683\n",
            "Epoch 50, Loss: 2.0524497032165527, Validation Loss: 2.5980148315429688, Validation Accuracy: 0.28541114926338196\n",
            "Epoch 60, Loss: 1.7966653108596802, Validation Loss: 2.558359146118164, Validation Accuracy: 0.30026525259017944\n",
            "Epoch 70, Loss: 1.5291807651519775, Validation Loss: 2.5518927574157715, Validation Accuracy: 0.3013262450695038\n",
            "Epoch 80, Loss: 1.2499619722366333, Validation Loss: 2.5720396041870117, Validation Accuracy: 0.30344828963279724\n",
            "Epoch 90, Loss: 0.9831974506378174, Validation Loss: 2.614694118499756, Validation Accuracy: 0.30026525259017944\n",
            "Epoch 100, Loss: 0.7424615025520325, Validation Loss: 2.656909465789795, Validation Accuracy: 0.30026525259017944\n",
            "\n",
            "GRU Model\n",
            "Epoch 10, Loss: 3.1410911083221436, Validation Loss: 3.1728062629699707, Validation Accuracy: 0.23023872077465057\n",
            "Epoch 20, Loss: 2.683906078338623, Validation Loss: 2.8228070735931396, Validation Accuracy: 0.25517240166664124\n",
            "Epoch 30, Loss: 2.3882405757904053, Validation Loss: 2.688701868057251, Validation Accuracy: 0.26578250527381897\n",
            "Epoch 40, Loss: 2.1351161003112793, Validation Loss: 2.579636573791504, Validation Accuracy: 0.2949602007865906\n",
            "Epoch 50, Loss: 1.8898767232894897, Validation Loss: 2.5089316368103027, Validation Accuracy: 0.3315649926662445\n",
            "Epoch 60, Loss: 1.6473491191864014, Validation Loss: 2.4731953144073486, Validation Accuracy: 0.33421751856803894\n",
            "Epoch 70, Loss: 1.4069669246673584, Validation Loss: 2.45699405670166, Validation Accuracy: 0.3442970812320709\n",
            "Epoch 80, Loss: 1.1738014221191406, Validation Loss: 2.461998224258423, Validation Accuracy: 0.35013261437416077\n",
            "Epoch 90, Loss: 0.9555299878120422, Validation Loss: 2.4873955249786377, Validation Accuracy: 0.36286473274230957\n",
            "Epoch 100, Loss: 0.7581391334533691, Validation Loss: 2.5301194190979004, Validation Accuracy: 0.35809019207954407\n"
          ]
        }
      ]
    },
    {
      "cell_type": "code",
      "source": [
        "# Predicting the next character\n",
        "test_str = \"This is a simple example to demonstrate how to predict the next charac\"\n",
        "predicted_char = predict_next_char(RNN30_Model, 30, char_to_ix, ix_to_char, test_str)\n",
        "print(f\"RNN: Predicted next character: '{predicted_char}'\")\n",
        "\n",
        "# Predicting the next character\n",
        "test_str = \"This is a simple example to demonstrate how to predict the next charac\"\n",
        "predicted_char = predict_next_char(LSTM30_Model, 30, char_to_ix, ix_to_char, test_str)\n",
        "print(f\"LSTM: Predicted next character: '{predicted_char}'\")\n",
        "\n",
        "# Predicting the next character\n",
        "test_str = \"This is a simple example to demonstrate how to predict the next charac\"\n",
        "predicted_char = predict_next_char(GRU30_Model, 30, char_to_ix, ix_to_char, test_str)\n",
        "print(f\"GRU: Predicted next character: '{predicted_char}'\")"
      ],
      "metadata": {
        "id": "_-DGe055E-GC",
        "colab": {
          "base_uri": "https://localhost:8080/"
        },
        "outputId": "629ba6dc-0c9f-4919-e47a-1b8d85988f7f"
      },
      "execution_count": 23,
      "outputs": [
        {
          "output_type": "stream",
          "name": "stdout",
          "text": [
            "RNN: Predicted next character: 't'\n",
            "LSTM: Predicted next character: 't'\n",
            "GRU: Predicted next character: 't'\n"
          ]
        }
      ]
    }
  ]
}