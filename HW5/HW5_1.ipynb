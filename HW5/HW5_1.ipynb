{
  "cells": [
    {
      "cell_type": "markdown",
      "metadata": {
        "id": "view-in-github",
        "colab_type": "text"
      },
      "source": [
        "<a href=\"https://colab.research.google.com/github/YousefAbua/Intro-To-DL/blob/main/HW5/HW5_1.ipynb\" target=\"_parent\"><img src=\"https://colab.research.google.com/assets/colab-badge.svg\" alt=\"Open In Colab\"/></a>"
      ]
    },
    {
      "cell_type": "code",
      "execution_count": 2,
      "metadata": {
        "colab": {
          "base_uri": "https://localhost:8080/"
        },
        "id": "baov4Vblogkw",
        "outputId": "b3f41728-6c96-42c8-b9b6-53df11563316"
      },
      "outputs": [
        {
          "metadata": {
            "tags": null
          },
          "name": "stderr",
          "output_type": "stream",
          "text": [
            "/usr/local/lib/python3.10/dist-packages/torch/nn/modules/transformer.py:286: UserWarning: enable_nested_tensor is True, but self.use_nested_tensor is False because encoder_layer.self_attn.batch_first was not True(use batch_first for better inference performance)\n",
            "  warnings.warn(f\"enable_nested_tensor is True, but self.use_nested_tensor is False because {why_not_sparsity_fast_path}\")\n"
          ]
        },
        {
          "output_type": "stream",
          "name": "stdout",
          "text": [
            "Sequence Length: 30, Epoch 1, Loss: 2.8346152305603027, Validation Loss: 2.536160469055176, Validation Accuracy: 0.2224108725786209\n",
            "Sequence Length: 30, Epoch 2, Loss: 2.597590923309326, Validation Loss: 2.4014341831207275, Validation Accuracy: 0.2631579041481018\n",
            "Sequence Length: 30, Epoch 3, Loss: 2.5676565170288086, Validation Loss: 2.3654844760894775, Validation Accuracy: 0.2563667297363281\n",
            "Sequence Length: 30, Epoch 4, Loss: 2.443629741668701, Validation Loss: 2.3435451984405518, Validation Accuracy: 0.25594228506088257\n",
            "Sequence Length: 30, Epoch 5, Loss: 2.4740452766418457, Validation Loss: 2.304137706756592, Validation Accuracy: 0.25424447655677795\n",
            "Sequence Length: 30, Epoch 6, Loss: 2.4380135536193848, Validation Loss: 2.2818760871887207, Validation Accuracy: 0.25594228506088257\n",
            "Sequence Length: 30, Epoch 7, Loss: 2.3325133323669434, Validation Loss: 2.28086519241333, Validation Accuracy: 0.2644312381744385\n",
            "Sequence Length: 30, Epoch 8, Loss: 2.3324356079101562, Validation Loss: 2.2897543907165527, Validation Accuracy: 0.24745331704616547\n",
            "Sequence Length: 30, Epoch 9, Loss: 2.2245423793792725, Validation Loss: 2.2868356704711914, Validation Accuracy: 0.25891339778900146\n",
            "Sequence Length: 30, Epoch 10, Loss: 2.1454343795776367, Validation Loss: 2.313690423965454, Validation Accuracy: 0.25806450843811035\n",
            "Predicted next character with sequence length 30: 'a'\n"
          ]
        }
      ],
      "source": [
        "import torch\n",
        "import torch.nn as nn\n",
        "import torch.optim as optim\n",
        "import numpy as np\n",
        "from sklearn.model_selection import train_test_split\n",
        "\n",
        "# Sample text\n",
        "text = '''Next character prediction is a fundamental task in the field of natural language processing (NLP) that involves predicting the next character\n",
        "in a sequence of text based on the characters that precede it. This task is essential for various applications, including text auto-completion, spell\n",
        "checking, and even in the development of sophisticated AI models capable of generating human-like text.\n",
        "At its core, next character prediction relies on statistical models or deep learning algorithms to analyze a given sequence of text and predict which\n",
        "character is most likely to follow. These predictions are based on patterns and relationships learned from large datasets of text during the training phase of the model.\n",
        "One of the most popular approaches to next character prediction involves the use of Recurrent Neural Networks (RNNs), and more specifically, a variant called Long Short-Term Memory\n",
        "(LSTM) networks. RNNs are particularly well-suited for sequential data like text, as they can maintain information in 'memory' about previous characters to inform the prediction of the next\n",
        "character. LSTM networks enhance this capability by being able to remember long-term dependencies, making them even more effective for next character prediction tasks.\n",
        "Training a model for next character prediction involves feeding it large amounts of text data, allowing it to learn the probability of each character's appearance following a sequence of\n",
        "characters. During this training process, the model adjusts its parameters to minimize the difference between its predictions and the actual outcomes, thus improving its predictive accuracy over time.\n",
        "Once trained, the model can be used to predict the next character in a given piece of text by considering the sequence of characters that precede it. This can enhance user experience in text editing\n",
        "software, improve efficiency in coding environments with auto-completion features, and enable more natural interactions with AI-based chatbots and virtual assistants.\n",
        "In summary, next character prediction plays a crucial role in enhancing the capabilities of various NLP applications, making text-based interactions more efficient, accurate,\n",
        "and human-like. Through the use of advanced machine learning models like RNNs and LSTMs, next character prediction continues to evolve, opening new possibilities for the future of text-based technology.'''\n",
        "\n",
        "# Creating character vocabulary\n",
        "chars = sorted(list(set(text)))\n",
        "ix_to_char = {i: ch for i, ch in enumerate(chars)}\n",
        "char_to_ix = {ch: i for i, ch in enumerate(chars)}\n",
        "\n",
        "# Function to generate training data for different sequence lengths\n",
        "def generate_data(sequence_length):\n",
        "    X = []\n",
        "    y = []\n",
        "    for i in range(len(text) - sequence_length):\n",
        "        sequence = text[i:i + sequence_length]\n",
        "        label = text[i + sequence_length]\n",
        "        X.append([char_to_ix[char] for char in sequence])\n",
        "        y.append(char_to_ix[label])\n",
        "\n",
        "    X = np.array(X)\n",
        "    y = np.array(y)\n",
        "    return X, y\n",
        "\n",
        "# Function to train and validate the model\n",
        "def train_and_validate(X_train, y_train, X_val, y_val, sequence_length, hidden_size=128, dropout=0.1):\n",
        "    # Convert data to PyTorch tensors\n",
        "    X_train = torch.tensor(X_train, dtype=torch.long)\n",
        "    y_train = torch.tensor(y_train, dtype=torch.long)\n",
        "    X_val = torch.tensor(X_val, dtype=torch.long)\n",
        "    y_val = torch.tensor(y_val, dtype=torch.long)\n",
        "\n",
        "    # Hyperparameters\n",
        "    batch_size = 128\n",
        "    num_layers = 3\n",
        "    nhead = 2\n",
        "    learning_rate = 0.001\n",
        "    epochs = 10\n",
        "\n",
        "    # Model, loss, and optimizer\n",
        "    model = CharTransformer(len(chars), hidden_size, len(chars), num_layers, nhead, dropout)\n",
        "\n",
        "    criterion = nn.CrossEntropyLoss()\n",
        "    optimizer = optim.Adam(model.parameters(), lr=learning_rate)\n",
        "    scheduler = optim.lr_scheduler.ReduceLROnPlateau(optimizer, 'min', patience=5, factor=0.5, verbose=True)\n",
        "\n",
        "    # Training the model\n",
        "    for epoch in range(epochs):\n",
        "        model.train()\n",
        "        for i in range(0, len(X_train), batch_size):\n",
        "            optimizer.zero_grad()\n",
        "            batch_X, batch_y = X_train[i:i+batch_size], y_train[i:i+batch_size]\n",
        "            output = model(batch_X)\n",
        "            loss = criterion(output, batch_y)\n",
        "            loss.backward()\n",
        "            nn.utils.clip_grad_norm_(model.parameters(), 5)  # Gradient clipping\n",
        "            optimizer.step()\n",
        "\n",
        "        # Validation\n",
        "        model.eval()\n",
        "        with torch.no_grad():\n",
        "            val_output = model(X_val)\n",
        "            val_loss = criterion(val_output, y_val)\n",
        "            _, predicted = torch.max(val_output, 1)\n",
        "            val_accuracy = (predicted == y_val).float().mean()\n",
        "\n",
        "        scheduler.step(val_loss)  # Adjust learning rate based on validation loss\n",
        "\n",
        "        if (epoch+1) % 1 == 0:\n",
        "            print(f'Sequence Length: {sequence_length}, Epoch {epoch+1}, Loss: {loss.item()}, Validation Loss: {val_loss.item()}, Validation Accuracy: {val_accuracy.item()}')\n",
        "\n",
        "    # Prediction\n",
        "    test_str = \"This is a simple example to demonstrate how to predict the next char\"\n",
        "    predicted_char = predict_next_char(model, char_to_ix, ix_to_char, test_str)\n",
        "    print(f\"Predicted next character with sequence length {sequence_length}: '{predicted_char}'\")\n",
        "\n",
        "    return loss.item(), val_loss.item(), val_accuracy.item()\n",
        "\n",
        "# Define the Transformer model with dropout\n",
        "class CharTransformer(nn.Module):\n",
        "    def __init__(self, input_size, hidden_size, output_size, num_layers, nhead, dropout=0.1):\n",
        "        super(CharTransformer, self).__init__()\n",
        "        self.embedding = nn.Embedding(input_size, hidden_size)\n",
        "        encoder_layers = nn.TransformerEncoderLayer(hidden_size, nhead, dropout=dropout)\n",
        "        self.transformer_encoder = nn.TransformerEncoder(encoder_layers, num_layers)\n",
        "        self.fc = nn.Linear(hidden_size, output_size)\n",
        "\n",
        "    def forward(self, x):\n",
        "        embedded = self.embedding(x)\n",
        "        transformer_output = self.transformer_encoder(embedded)\n",
        "        output = self.fc(transformer_output[:, -1, :])  # Get the output of the last Transformer block\n",
        "        return output\n",
        "\n",
        "# Predicting the next character\n",
        "def predict_next_char(model, char_to_ix, ix_to_char, initial_str):\n",
        "    model.eval()\n",
        "    with torch.no_grad():\n",
        "        max_length = max(len(initial_str), 30)  # Adjusted max length\n",
        "        initial_input = torch.tensor([char_to_ix[c] for c in initial_str[-max_length:]], dtype=torch.long).unsqueeze(0)\n",
        "        prediction = model(initial_input)\n",
        "        predicted_index = torch.argmax(prediction, dim=1).item()\n",
        "        return ix_to_char[predicted_index]\n",
        "\n",
        "# Train and validate for sequence lengths of 10, 20, and 30 for both Transformer and RNN models\n",
        "#sequence_length = 10\n",
        "#sequence_length = 20\n",
        "sequence_length = 30\n",
        "results = {}\n",
        "\n",
        "X_train, y_train = generate_data(sequence_length)\n",
        "X_val, y_val = generate_data(sequence_length)\n",
        "\n",
        "# Train and validate Transformer model with dropout\n",
        "transformer_loss, transformer_val_loss, transformer_val_accuracy = train_and_validate(\n",
        "    X_train, y_train, X_val, y_val, sequence_length, hidden_size=256, dropout=0.2\n",
        ")"
      ]
    },
    {
      "cell_type": "code",
      "execution_count": null,
      "metadata": {
        "id": "qqn_Xdz9VwLs"
      },
      "outputs": [],
      "source": []
    }
  ],
  "metadata": {
    "colab": {
      "provenance": [],
      "authorship_tag": "ABX9TyPUzQkd7Tnc4kgytmuZfFhV",
      "include_colab_link": true
    },
    "kernelspec": {
      "display_name": "Python 3",
      "name": "python3"
    },
    "language_info": {
      "name": "python"
    }
  },
  "nbformat": 4,
  "nbformat_minor": 0
}