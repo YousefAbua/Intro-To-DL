{
  "nbformat": 4,
  "nbformat_minor": 0,
  "metadata": {
    "colab": {
      "provenance": [],
      "authorship_tag": "ABX9TyNpiX+7Xzq3FHYm850p+8cQ",
      "include_colab_link": true
    },
    "kernelspec": {
      "name": "python3",
      "display_name": "Python 3"
    },
    "language_info": {
      "name": "python"
    }
  },
  "cells": [
    {
      "cell_type": "markdown",
      "metadata": {
        "id": "view-in-github",
        "colab_type": "text"
      },
      "source": [
        "<a href=\"https://colab.research.google.com/github/YousefAbua/Intro-To-DL/blob/main/HW5/HW5_4.ipynb\" target=\"_parent\"><img src=\"https://colab.research.google.com/assets/colab-badge.svg\" alt=\"Open In Colab\"/></a>"
      ]
    },
    {
      "cell_type": "code",
      "execution_count": 1,
      "metadata": {
        "id": "1-uBc8JTvzTF"
      },
      "outputs": [],
      "source": [
        "import torch\n",
        "import torch.nn as nn\n",
        "import torch.optim as optim\n",
        "import torch.nn.functional as F\n",
        "import math\n",
        "import numpy as np\n",
        "import random\n",
        "from torch.utils.data import Dataset, DataLoader"
      ]
    },
    {
      "cell_type": "code",
      "source": [
        "# Check if GPU is available\n",
        "device = torch.device('cuda' if torch.cuda.is_available() else 'cpu')\n",
        "print(f'Using device: {device}')"
      ],
      "metadata": {
        "colab": {
          "base_uri": "https://localhost:8080/"
        },
        "id": "rDQuH8sPwDsm",
        "outputId": "34e220a8-afb3-490f-c578-36860c068b45"
      },
      "execution_count": 2,
      "outputs": [
        {
          "output_type": "stream",
          "name": "stdout",
          "text": [
            "Using device: cpu\n"
          ]
        }
      ]
    },
    {
      "cell_type": "code",
      "source": [
        "french_to_english = [\n",
        "\n",
        "      (\"J'ai froid\", \"I am cold\"),\n",
        "\n",
        "      (\"Tu es fatigué\", \"You are tired\"),\n",
        "\n",
        "      (\"Il a faim\", \"He is hungry\"),\n",
        "\n",
        "      (\"Elle est heureuse\", \"She is happy\"),\n",
        "\n",
        "      (\"Nous sommes amis\", \"We are friends\"),\n",
        "\n",
        "      (\"Ils sont étudiants\", \"They are students\"),\n",
        "\n",
        "      (\"Le chat dort\", \"The cat is sleeping\"),\n",
        "\n",
        "      (\"Le soleil brille\", \"The sun is shining\"),\n",
        "\n",
        "      (\"Nous aimons la musique\", \"We love music\"),\n",
        "\n",
        "      (\"Elle parle français couramment\", \"She speaks French fluently\"),\n",
        "\n",
        "      (\"Il aime lire des livres\", \"He enjoys reading books\"),\n",
        "\n",
        "      (\"Ils jouent au football chaque week-end\", \"They play soccer every weekend\"),\n",
        "\n",
        "      (\"Le film commence à 19 heures\", \"The movie starts at 7 PM\"),\n",
        "\n",
        "      (\"Elle porte une robe rouge\", \"She wears a red dress\"),\n",
        "\n",
        "      (\"Nous cuisinons le dîner ensemble\", \"We cook dinner together\"),\n",
        "\n",
        "      (\"Il conduit une voiture bleue\", \"He drives a blue car\"),\n",
        "\n",
        "      (\"Ils visitent souvent des musées\", \"They visit museums often\"),\n",
        "\n",
        "      (\"Le restaurant sert une délicieuse cuisine\", \"The restaurant serves delicious food\"),\n",
        "\n",
        "      (\"Elle étudie les mathématiques à l'université\", \"She studies mathematics at university\"),\n",
        "\n",
        "      (\"Nous regardons des films le vendredi\", \"We watch movies on Fridays\"),\n",
        "\n",
        "      (\"Il écoute de la musique en faisant du jogging\", \"He listens to music while jogging\"),\n",
        "\n",
        "      (\"Ils voyagent autour du monde\", \"They travel around the world\"),\n",
        "\n",
        "      (\"Le livre est sur la table\", \"The book is on the table\"),\n",
        "\n",
        "      (\"Elle danse avec grâce\", \"She dances gracefully\"),\n",
        "\n",
        "      (\"Nous célébrons les anniversaires avec un gâteau\", \"We celebrate birthdays with cake\"),\n",
        "\n",
        "      (\"Il travaille dur tous les jours\", \"He works hard every day\"),\n",
        "\n",
        "      (\"Ils parlent différentes langues\", \"They speak different languages\"),\n",
        "\n",
        "      (\"Les fleurs fleurissent au printemps\", \"The flowers bloom in spring\"),\n",
        "\n",
        "      (\"Elle écrit de la poésie pendant son temps libre\", \"She writes poetry in her free time\"),\n",
        "\n",
        "      (\"Nous apprenons quelque chose de nouveau chaque jour\", \"We learn something new every day\"),\n",
        "\n",
        "      (\"Le chien aboie bruyamment\", \"The dog barks loudly\"),\n",
        "\n",
        "      (\"Il chante magnifiquement\", \"He sings beautifully\"),\n",
        "\n",
        "      (\"Ils nagent dans la piscine\", \"They swim in the pool\"),\n",
        "\n",
        "      (\"Les oiseaux gazouillent le matin\", \"The birds chirp in the morning\"),\n",
        "\n",
        "      (\"Elle enseigne l'anglais à l'école\", \"She teaches English at school\"),\n",
        "\n",
        "      (\"Nous prenons le petit déjeuner ensemble\", \"We eat breakfast together\"),\n",
        "\n",
        "      (\"Il peint des paysages\", \"He paints landscapes\"),\n",
        "\n",
        "      (\"Ils rient de la blague\", \"They laugh at the joke\"),\n",
        "\n",
        "      (\"L'horloge tic-tac bruyamment\", \"The clock ticks loudly\"),\n",
        "\n",
        "      (\"Elle court dans le parc\", \"She runs in the park\"),\n",
        "\n",
        "      (\"Nous voyageons en train\", \"We travel by train\"),\n",
        "\n",
        "      (\"Il écrit une lettre\", \"He writes a letter\"),\n",
        "\n",
        "      (\"Ils lisent des livres à la bibliothèque\", \"They read books at the library\"),\n",
        "\n",
        "      (\"Le bébé pleure\", \"The baby cries\"),\n",
        "\n",
        "      (\"Elle étudie dur pour les examens\", \"She studies hard for exams\"),\n",
        "\n",
        "      (\"Nous plantons des fleurs dans le jardin\", \"We plant flowers in the garden\"),\n",
        "\n",
        "      (\"Il répare la voiture\", \"He fixes the car\"),\n",
        "\n",
        "      (\"Ils boivent du café le matin\", \"They drink coffee in the morning\"),\n",
        "\n",
        "      (\"Le soleil se couche le soir\", \"The sun sets in the evening\"),\n",
        "\n",
        "      (\"Elle danse à la fête\", \"She dances at the party\"),\n",
        "\n",
        "      (\"Nous jouons de la musique au concert\", \"We play music at the concert\"),\n",
        "\n",
        "      (\"Il cuisine le dîner pour sa famille\", \"He cooks dinner for his family\"),\n",
        "\n",
        "      (\"Ils étudient la grammaire française\", \"They study French grammar\"),\n",
        "\n",
        "      (\"La pluie tombe doucement\", \"The rain falls gently\"),\n",
        "\n",
        "      (\"Elle chante une chanson\", \"She sings a song\"),\n",
        "\n",
        "      (\"Nous regardons un film ensemble\", \"We watch a movie together\"),\n",
        "\n",
        "      (\"Il dort profondément\", \"He sleeps deeply\"),\n",
        "\n",
        "      (\"Ils voyagent à Paris\", \"They travel to Paris\"),\n",
        "\n",
        "      (\"Les enfants jouent dans le parc\", \"The children play in the park\"),\n",
        "\n",
        "      (\"Elle se promène le long de la plage\", \"She walks along the beach\"),\n",
        "\n",
        "      (\"Nous parlons au téléphone\", \"We talk on the phone\"),\n",
        "\n",
        "      (\"Il attend le bus\", \"He waits for the bus\"),\n",
        "\n",
        "      (\"Ils visitent la tour Eiffel\", \"They visit the Eiffel Tower\"),\n",
        "\n",
        "      (\"Les étoiles scintillent la nuit\", \"The stars twinkle at night\"),\n",
        "\n",
        "      (\"Elle rêve de voler\", \"She dreams of flying\"),\n",
        "\n",
        "      (\"Nous travaillons au bureau\", \"We work in the office\"),\n",
        "\n",
        "      (\"Il étudie l'histoire\", \"He studies history\"),\n",
        "\n",
        "      (\"Ils écoutent la radio\", \"They listen to the radio\"),\n",
        "\n",
        "      (\"Le vent souffle doucement\", \"The wind blows gently\"),\n",
        "\n",
        "      (\"Elle nage dans l'océan\", \"She swims in the ocean\"),\n",
        "\n",
        "      (\"Nous dansons au mariage\", \"We dance at the wedding\"),\n",
        "\n",
        "      (\"Il gravit la montagne\", \"He climbs the mountain\"),\n",
        "\n",
        "      (\"Ils font de la randonnée dans la forêt\", \"They hike in the forest\"),\n",
        "\n",
        "      (\"Le chat miaule bruyamment\", \"The cat meows loudly\"),\n",
        "\n",
        "      (\"Elle peint un tableau\", \"She paints a picture\"),\n",
        "\n",
        "      (\"Nous construisons un château de sable\", \"We build a sandcastle\"),\n",
        "\n",
        "      (\"Il chante dans le chœur\", \"He sings in the choir\")\n",
        "\n",
        "  ]\n"
      ],
      "metadata": {
        "id": "5NYHjppfwI2y"
      },
      "execution_count": 3,
      "outputs": []
    },
    {
      "cell_type": "code",
      "source": [
        "class TranslationDataset(Dataset):\n",
        "    def __init__(self, dataset, word_to_index):\n",
        "        self.dataset = dataset\n",
        "        self.word_to_index = word_to_index\n",
        "\n",
        "    def __len__(self):\n",
        "        return len(self.dataset)\n",
        "\n",
        "    def __getitem__(self, idx):\n",
        "        input_sentence, target_sentence = self.dataset[idx]\n",
        "        input_indices = [self.word_to_index[word] for word in input_sentence.split()] + [EOS_token]\n",
        "        target_indices = [self.word_to_index[word] for word in target_sentence.split()] + [EOS_token]\n",
        "        return torch.tensor(input_indices, dtype=torch.long), torch.tensor(target_indices, dtype=torch.long)"
      ],
      "metadata": {
        "id": "pkmgvOY33wiv"
      },
      "execution_count": 4,
      "outputs": []
    },
    {
      "cell_type": "code",
      "source": [
        "SOS_token = 0\n",
        "EOS_token = 1\n",
        "\n",
        "word_to_index = {\"SOS\": SOS_token, \"EOS\": EOS_token}\n",
        "for pair in french_to_english:\n",
        "    for word in pair[0].split() + pair[1].split():\n",
        "        if word not in word_to_index:\n",
        "            word_to_index[word] = len(word_to_index)\n",
        "\n",
        "index_to_word = {i: word for word, i in word_to_index.items()}\n",
        "\n",
        "# Creating a DataLoader to batch and shuffle the dataset\n",
        "translation_dataset = TranslationDataset(french_to_english, word_to_index)\n",
        "dataloader = DataLoader(translation_dataset, batch_size=1, shuffle=True)"
      ],
      "metadata": {
        "id": "oteSCTQxwJ9M"
      },
      "execution_count": 7,
      "outputs": []
    },
    {
      "cell_type": "code",
      "source": [
        "class Transformer(nn.Module):\n",
        "    def __init__(self, input_vocab_size, target_vocab_size, hidden_size, num_layers=2, num_heads=8, dropout=0.1):\n",
        "        super(Transformer, self).__init__()\n",
        "        self.embedding_input = nn.Embedding(input_vocab_size, hidden_size)\n",
        "        self.embedding_target = nn.Embedding(target_vocab_size, hidden_size)\n",
        "        self.transformer = nn.Transformer(\n",
        "            d_model=hidden_size,\n",
        "            nhead=num_heads,\n",
        "            num_encoder_layers=num_layers,\n",
        "            num_decoder_layers=num_layers,\n",
        "            dim_feedforward=hidden_size * 4,\n",
        "            dropout=dropout\n",
        "        )\n",
        "        self.fc = nn.Linear(hidden_size, target_vocab_size)\n",
        "\n",
        "    def forward(self, input, target):\n",
        "        input_embedded = self.embedding_input(input)\n",
        "        target_embedded = self.embedding_target(target)\n",
        "\n",
        "        input_pad_mask = self.generate_padding_mask(input)\n",
        "        target_pad_mask = self.generate_padding_mask(target)\n",
        "        target_subsequent_mask = self.generate_subsequent_mask(target)\n",
        "\n",
        "        input_embedded = input_embedded.permute(1, 0, 2)\n",
        "        target_embedded = target_embedded.permute(1, 0, 2)\n",
        "\n",
        "        output = self.transformer(\n",
        "            input_embedded,\n",
        "            target_embedded,\n",
        "            src_key_padding_mask=input_pad_mask,\n",
        "            tgt_key_padding_mask=target_pad_mask,\n",
        "            memory_key_padding_mask=input_pad_mask,\n",
        "            tgt_mask=target_subsequent_mask\n",
        "        )\n",
        "\n",
        "        output = self.fc(output)\n",
        "        return output.permute(1, 0, 2)\n",
        "\n",
        "    def generate_padding_mask(self, sequence):\n",
        "        mask = (sequence == word_to_index[\"EOS\"])\n",
        "        return mask\n",
        "\n",
        "    def generate_subsequent_mask(self, sequence):\n",
        "        mask = (torch.triu(torch.ones(sequence.size(1), sequence.size(1))) == 1).transpose(0, 1)\n",
        "        mask = mask.float().masked_fill(mask == 0, float('-inf')).masked_fill(mask == 1, float(0.0))\n",
        "        return mask"
      ],
      "metadata": {
        "id": "T5Kc1sMTx6FU"
      },
      "execution_count": 8,
      "outputs": []
    },
    {
      "cell_type": "code",
      "source": [
        "def train(model, dataloader, criterion, optimizer, n_epochs):\n",
        "    for epoch in range(n_epochs):\n",
        "        total_loss = 0\n",
        "        total_correct = 0\n",
        "        total_examples = 0\n",
        "\n",
        "        model.train()  # Set the model to training mode\n",
        "\n",
        "        for input_tensor, target_tensor in dataloader:\n",
        "            input_tensor = input_tensor.to(device)\n",
        "            target_tensor = target_tensor.to(device)\n",
        "\n",
        "            optimizer.zero_grad()\n",
        "\n",
        "            output = model(input_tensor, target_tensor[:, :-1])  # Exclude EOS token from target\n",
        "            output_dim = output.shape[-1]\n",
        "\n",
        "            output = output.contiguous().view(-1, output_dim)\n",
        "            target_tensor = target_tensor[:, 1:].contiguous().view(-1)  # Exclude SOS token from target\n",
        "\n",
        "            loss = criterion(output, target_tensor)\n",
        "            loss.backward()\n",
        "            optimizer.step()\n",
        "\n",
        "            total_loss += loss.item()\n",
        "\n",
        "            _, predicted = torch.max(output, 1)\n",
        "            correct = (predicted == target_tensor).sum().item()\n",
        "            total_correct += correct\n",
        "            total_examples += target_tensor.size(0)  # Use target tensor size for total examples\n",
        "\n",
        "        avg_loss = total_loss / len(dataloader)\n",
        "        training_accuracy = total_correct / total_examples  # Calculate training accuracy\n",
        "\n",
        "        print(f\"Epoch [{epoch+1}/{n_epochs}], Loss: {avg_loss:.4f}, Training Accuracy: {training_accuracy:.4f}\")\n"
      ],
      "metadata": {
        "id": "YlRATkZs4lVg"
      },
      "execution_count": 9,
      "outputs": []
    },
    {
      "cell_type": "code",
      "source": [
        "# Assuming all words in the dataset + 'SOS' and 'EOS' tokens are included in word_to_index\n",
        "input_size = len(word_to_index)\n",
        "hidden_size = 128\n",
        "output_size = len(word_to_index)\n",
        "\n",
        "model = Transformer(input_size, output_size, hidden_size).to(device)\n",
        "\n",
        "# Set the learning rate for optimization\n",
        "learning_rate = 0.0005\n",
        "\n",
        "# Define the loss function and optimizer\n",
        "criterion = nn.CrossEntropyLoss()\n",
        "optimizer = optim.Adam(model.parameters(), lr=learning_rate)\n",
        "\n",
        "# Set number of epochs for training\n",
        "epochs = 10\n",
        "\n",
        "train(model, dataloader, criterion, optimizer, epochs)"
      ],
      "metadata": {
        "colab": {
          "base_uri": "https://localhost:8080/"
        },
        "id": "hyt6Pvu-031S",
        "outputId": "50ccca57-81de-4e7a-ab70-50e0b9a837d6"
      },
      "execution_count": 10,
      "outputs": [
        {
          "output_type": "stream",
          "name": "stderr",
          "text": [
            "/usr/local/lib/python3.10/dist-packages/torch/nn/modules/transformer.py:286: UserWarning: enable_nested_tensor is True, but self.use_nested_tensor is False because encoder_layer.self_attn.batch_first was not True(use batch_first for better inference performance)\n",
            "  warnings.warn(f\"enable_nested_tensor is True, but self.use_nested_tensor is False because {why_not_sparsity_fast_path}\")\n",
            "/usr/local/lib/python3.10/dist-packages/torch/nn/functional.py:5109: UserWarning: Support for mismatched key_padding_mask and attn_mask is deprecated. Use same type for both instead.\n",
            "  warnings.warn(\n"
          ]
        },
        {
          "output_type": "stream",
          "name": "stdout",
          "text": [
            "Epoch [1/10], Loss: 5.1369, Training Accuracy: 0.2114\n",
            "Epoch [2/10], Loss: 4.1192, Training Accuracy: 0.2429\n",
            "Epoch [3/10], Loss: 3.3270, Training Accuracy: 0.3343\n",
            "Epoch [4/10], Loss: 2.6564, Training Accuracy: 0.4257\n",
            "Epoch [5/10], Loss: 2.1015, Training Accuracy: 0.5429\n",
            "Epoch [6/10], Loss: 1.6234, Training Accuracy: 0.7114\n",
            "Epoch [7/10], Loss: 1.2096, Training Accuracy: 0.8600\n",
            "Epoch [8/10], Loss: 0.8947, Training Accuracy: 0.9200\n",
            "Epoch [9/10], Loss: 0.6372, Training Accuracy: 0.9686\n",
            "Epoch [10/10], Loss: 0.4554, Training Accuracy: 0.9886\n"
          ]
        }
      ]
    },
    {
      "cell_type": "code",
      "source": [],
      "metadata": {
        "id": "BEhAnWBF8DYc"
      },
      "execution_count": 10,
      "outputs": []
    }
  ]
}